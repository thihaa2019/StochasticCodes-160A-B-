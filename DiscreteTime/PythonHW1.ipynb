{
 "cells": [
  {
   "cell_type": "markdown",
   "metadata": {},
   "source": [
    "# Python Homework 1\n",
    "\n",
    "**Release date:** Saturday, 1/11/2020 <br>\n",
    "**Due date:** Friday, 1/24/2020, 11:59 p.m. via GauchoSpace\n",
    "\n",
    "**Instruction:** Please upload your jupyter notebook on GauchoSpace with filename \"PythonHW1_YOURPERMNUMBER.ipynb\".\n"
   ]
  },
  {
   "cell_type": "markdown",
   "metadata": {},
   "source": [
    "The purpose of this Python Homework is to get a little bit familiar with sampling from a distribution with the __NumPy Package__.\n",
    "\n",
    "_Attention:_ Don't forget to import the necessary packages!"
   ]
  },
  {
   "cell_type": "markdown",
   "metadata": {},
   "source": [
    "## Problem 1 (6 Points)"
   ]
  },
  {
   "cell_type": "markdown",
   "metadata": {},
   "source": [
    "1. Simulate 100,000 realizations from the binomial distribution with $N$=1000 trails and success probability $p$=0.3."
   ]
  },
  {
   "cell_type": "code",
   "execution_count": 3,
   "metadata": {},
   "outputs": [
    {
     "name": "stdout",
     "output_type": "stream",
     "text": [
      "[259 287 310 ... 304 297 311]\n"
     ]
    }
   ],
   "source": [
    "# WRITE YOUR OWN CODE HERE! FEEL FREE TO INSERT MORE CELLS!\n",
    "# ADD SOME COMMENTS TO YOUR CODE!\n",
    "import numpy as np\n",
    "import matplotlib.pyplot as plt\n",
    "\n",
    "N = 1000                                    #  number of trials 1000,\n",
    "p = 0.3                                     #  probability of each trial 0.3\n",
    "sim_1 = np.random.binomial(N, p, 100000) \n",
    "print(sim_1)                                #  Prints how many successful in each realization for a total of 100000\n"
   ]
  },
  {
   "cell_type": "markdown",
   "metadata": {},
   "source": [
    "2. Compute the empirical mean and the empricial standard deviation of your sample and compare these values with the theoretical values."
   ]
  },
  {
   "cell_type": "code",
   "execution_count": 5,
   "metadata": {},
   "outputs": [
    {
     "name": "stdout",
     "output_type": "stream",
     "text": [
      "Mean difference= 0.04068\n",
      "Standard deviation difference = 90.498\n"
     ]
    }
   ],
   "source": [
    "# WRITE YOUR OWN CODE HERE! FEEL FREE TO INSERT MORE CELLS!\n",
    "# ADD SOME COMMENTS TO YOUR CODE!\n",
    "\n",
    "emp_mean = np.mean(sim_1)                            # Empirical mean\n",
    "theo_mean = N * p                                    # Theoretical mean\n",
    "mean_diff = abs(emp_mean-theo_mean)\n",
    "print(\"Mean difference= \" + str(round(mean_diff,5))) # Prints out difference between empirical and theoretical mean\n",
    "\n",
    "emp_std = np.std(sim_1)                              # Empirical standard deviation\n",
    "theo_std = (N * p * (1-p))**1/2                      # Theoretical standard deviation\n",
    "std_diff = abs(emp_std - theo_std) \n",
    "print(\"Standard deviation difference = \" + str(round(std_diff,3))) \n",
    "                                                     # Prints out difference between empirical & theoretical standard deviation\n"
   ]
  },
  {
   "cell_type": "markdown",
   "metadata": {},
   "source": [
    "3. Plot a histogram of your sample with the absolute number of counts for each bin. Choose 25 bins."
   ]
  },
  {
   "cell_type": "code",
   "execution_count": 6,
   "metadata": {},
   "outputs": [
    {
     "data": {
      "image/png": "[encoded data removed]",
      "text/plain": [
       "<Figure size 432x288 with 1 Axes>"
      ]
     },
     "metadata": {
      "needs_background": "light"
     },
     "output_type": "display_data"
    }
   ],
   "source": [
    "# WRITE YOUR OWN CODE HERE! FEEL FREE TO INSERT MORE CELLS!\n",
    "# ADD SOME COMMENTS TO YOUR CODE!\n",
    "import matplotlib\n",
    "from matplotlib import pyplot as plt\n",
    "plt.hist(sim_1, density=False, bins=25)      # Plots the histogram of simulatation from 1\n",
    "plt.xlabel(\"Range\")                          # Assign x label \n",
    "plt.ylabel(\"Absolute number of counts\")      # Assign y label\n",
    "plt.show()                                   # Shows the plot"
   ]
  },
  {
   "cell_type": "markdown",
   "metadata": {},
   "source": [
    "4. Standardize your sample, that is, subtract the emprical mean and divide by the empricial standard deviation."
   ]
  },
  {
   "cell_type": "code",
   "execution_count": 15,
   "metadata": {},
   "outputs": [],
   "source": [
    "# WRITE YOUR OWN CODE HERE! FEEL FREE TO INSERT MORE CELLS!\n",
    "# ADD SOME COMMENTS TO YOUR CODE!\n",
    "\n",
    "sim_std = (sim_1 - emp_mean)/emp_std   # creates a new array of the simulation with each element standardized\n"
   ]
  },
  {
   "cell_type": "markdown",
   "metadata": {},
   "source": [
    "5. Plot a histogram of your standardized sample with the counts normalized to form a probability density. Choose again 25 bins. Compare your histrogram with the density of the standard normal distribution by inserting its density into the histogram plot. "
   ]
  },
  {
   "cell_type": "code",
   "execution_count": 16,
   "metadata": {},
   "outputs": [
    {
     "data": {
      "image/png": "[encoded data removed]",
      "text/plain": [
       "<Figure size 432x288 with 1 Axes>"
      ]
     },
     "metadata": {
      "needs_background": "light"
     },
     "output_type": "display_data"
    }
   ],
   "source": [
    "# WRITE YOUR OWN CODE HERE! FEEL FREE TO INSERT MORE CELLS!\n",
    "# ADD SOME COMMENTS TO YOUR CODE!\n",
    "\n",
    "mu, sigma = 0, 1\n",
    "std_norm = np.random.normal(mu,sigma,100000)                                 # Creates a standard normal with 100000 realizations\n",
    "\n",
    "plt.hist(sim_std, density=True, bins=25, color = \"GREEN\")                    # Plots histogram of standarized sample with counts normalized\n",
    "plt.hist(std_norm, density=True, bins=25, color = \"RED\")                     # Plots the histogram of standardized normal distribution\n",
    "plt.title(\"Comparison of standard normal and standardized sample\")           # Names the plot\n",
    "plt.text(-4, -0.1, \"Green is standarized sample and Red is standard normal\") # Sub-title\n",
    "plt.show()                                                                   # Shows the plot"
   ]
  },
  {
   "cell_type": "markdown",
   "metadata": {},
   "source": [
    "## Problem 2 (4 Points)"
   ]
  },
  {
   "cell_type": "markdown",
   "metadata": {},
   "source": [
    "1. Implement the simulation of a biased 6-sided die which takes the values 1,2,3,4,5,6 with probabilities 1/8,1/12,1/8,1/12,1/12,1/2."
   ]
  },
  {
   "cell_type": "code",
   "execution_count": 17,
   "metadata": {},
   "outputs": [],
   "source": [
    "# WRITE YOUR OWN CODE HERE! FEEL FREE TO INSERT MORE CELLS!\n",
    "# ADD SOME COMMENTS TO YOUR CODE!\n",
    "a = [1, 2, 3, 4, 5, 6]                                           # Each number on die\n",
    "prob = [1.0/8.0, 1.0/12.0, 1.0/8.0, 1.0/12.0, 1.0/12.0, 1.0/2.0] # Probability with respect to each number on die\n",
    "sims = 1000000 \n",
    "rolls = np.random.choice(a, sims, p=prob)                        # simulation ofthe biased die with specifications above\n"
   ]
  },
  {
   "cell_type": "markdown",
   "metadata": {},
   "source": [
    "2. Plot a histrogramm with 1,000,000 simulations to check if the relative counts of each number is approximately equal to the corresponding specified probabilities.\n",
    "\n",
    "_Remark:_ Specify the bins of your histogram correctly."
   ]
  },
  {
   "cell_type": "code",
   "execution_count": 18,
   "metadata": {},
   "outputs": [
    {
     "data": {
      "image/png": "[encoded data removed]",
      "text/plain": [
       "<Figure size 432x288 with 1 Axes>"
      ]
     },
     "metadata": {
      "needs_background": "light"
     },
     "output_type": "display_data"
    }
   ],
   "source": [
    "# WRITE YOUR OWN CODE HERE! FEEL FREE TO INSERT MORE CELLS!\n",
    "# ADD SOME COMMENTS TO YOUR CODE!\n",
    "\n",
    "plt.hist(rolls,density = False, bins = 11)           # Plots histogram of simulation in 2a\n",
    "plt.title(\"Histogram with counts\")                   # Title of histogram\n",
    "plt.xlabel(\"Number on Die\")                          # X-axis label\n",
    "plt.ylabel(\"Frequency of getting the number of Die\") #Y-axis label\n",
    "plt.show()                                           #Shows the plot"
   ]
  }
 ],
 "metadata": {
  "kernelspec": {
   "display_name": "Python 3",
   "language": "python",
   "name": "python3"
  },
  "language_info": {
   "codemirror_mode": {
    "name": "ipython",
    "version": 3
   },
   "file_extension": ".py",
   "mimetype": "text/x-python",
   "name": "python",
   "nbconvert_exporter": "python",
   "pygments_lexer": "ipython3",
   "version": "3.7.3"
  }
 },
 "nbformat": 4,
 "nbformat_minor": 2
}
