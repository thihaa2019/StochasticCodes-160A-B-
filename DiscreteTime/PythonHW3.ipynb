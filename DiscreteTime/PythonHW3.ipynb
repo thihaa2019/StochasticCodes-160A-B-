{
 "cells": [
  {
   "cell_type": "markdown",
   "metadata": {},
   "source": [
    "# Python Homework 3\n",
    "\n",
    "**Release date:** Friday, January 24 <br>\n",
    "**Due date:** Friday, February 7, 11:59 p.m. via GauchoSpace\n",
    "\n",
    "**Instruction:** Please upload your jupyter notebook on GauchoSpace with filename \"PythonHW3_YOURPERMNUMBER.ipynb\".\n"
   ]
  },
  {
   "cell_type": "markdown",
   "metadata": {},
   "source": [
    "In this Python Homework you are asked to implement two simulations related to problems discussed in class.\n"
   ]
  },
  {
   "cell_type": "markdown",
   "metadata": {},
   "source": [
    "As usual, start with loading some packages:"
   ]
  },
  {
   "cell_type": "code",
   "execution_count": 12,
   "metadata": {},
   "outputs": [],
   "source": [
    "import numpy as np\n",
    "import enum"
   ]
  },
  {
   "cell_type": "markdown",
   "metadata": {},
   "source": [
    "## Problem 1 (5 Points)\n",
    "\n",
    "Since the beginning of Spring quarter Julie goes every day to Woodstock Pizza, orders a slice of pizza, and picks a topping - pepper, pepperoni, pineapple, prawns, or prosciutto - unifromly at random. "
   ]
  },
  {
   "cell_type": "markdown",
   "metadata": {},
   "source": [
    "1. Implement a simulator which uniformly samples from one topping:"
   ]
  },
  {
   "cell_type": "code",
   "execution_count": 59,
   "metadata": {},
   "outputs": [
    {
     "name": "stdout",
     "output_type": "stream",
     "text": [
      "The topping is  prawns\n"
     ]
    }
   ],
   "source": [
    "# WRITE YOUR OWN CODE HERE! FEEL FREE TO INSERT MORE CELLS!\n",
    "# ADD SOME COMMENTS TO YOUR CODE!\n",
    "\n",
    "class Topping(enum.Enum):\n",
    "    pepper = 1\n",
    "    pepperoni = 2\n",
    "    pineapple = 3\n",
    "    prawns = 4\n",
    "    prosciutto = 5\n",
    "\n",
    "\n",
    "def simulator():\n",
    "    # simulates which number to choose from 1 to 5, low inclusive high exclusive\n",
    "    a = np.random.randint(low= 1, high= 6)\n",
    "    return Topping(a)\n",
    "\n",
    "my_top= str(simulator())\n",
    "    \n",
    "print(\"The topping is \", my_top[8:len(my_top)])"
   ]
  },
  {
   "cell_type": "markdown",
   "metadata": {},
   "source": [
    "2. On the day that Julie first picks pineapple, find the empricial mean of the number of prior days in which she picked pepperoni by running 10000 simulations.\n",
    "\n"
   ]
  },
  {
   "cell_type": "code",
   "execution_count": 87,
   "metadata": {},
   "outputs": [
    {
     "name": "stdout",
     "output_type": "stream",
     "text": [
      "The mean of number of prior days in which she picked pepperoni before pineapple is 1.0\n"
     ]
    }
   ],
   "source": [
    "def pepperoni_before_pineapple():\n",
    "    # calculate numbers of time julie select pepperoni before pineapple\n",
    "    num = 0\n",
    "    # 10000 simulations \n",
    "    for i in range(10000):\n",
    "        topping = simulator()\n",
    "        # while loop as long as there is no pine apple topping\n",
    "        while topping != Topping.pineapple:\n",
    "            # check topping is pepperoni\n",
    "            if topping == Topping.pepperoni:\n",
    "                #increase number of days of pepperoni\n",
    "                num += 1\n",
    "            topping = simulator()\n",
    "    #mean\n",
    "    mean = num / 10000\n",
    "    return mean\n",
    "print(\"The mean of number of prior days in which she picked pepperoni before pineapple is \" + str(round(pepperoni_before_pineapple(),1)))\n"
   ]
  },
  {
   "cell_type": "markdown",
   "metadata": {},
   "source": [
    "## Problem 2 (5 Points)\n",
    "\n",
    "Recall Problem 3.3:\n",
    "\n",
    "A health insurance will pay for a medical expense subject to a USD 100 deductible. Assume that the amount of the expense is exponentially distributed with mean USD 500.\n",
    "\n",
    "Compute the empirical mean and emprical standard deviation of the payout by the insurance company by using 100000 samples."
   ]
  },
  {
   "cell_type": "code",
   "execution_count": 86,
   "metadata": {},
   "outputs": [
    {
     "name": "stdout",
     "output_type": "stream",
     "text": [
      "Empirical mean = 401.506\n",
      "Variance = 254073.276\n"
     ]
    }
   ],
   "source": [
    "# WRITE YOUR OWN CODE HERE! FEEL FREE TO INSERT MORE CELLS!\n",
    "# ADD SOME COMMENTS TO YOUR CODE!\n",
    "\n",
    "# X ~ Exp(1/500)\n",
    "# Simulate exp(1/500) with 100000 samples size\n",
    "sim = np.random.exponential(scale=500, size=100000)\n",
    "# Substract 100 USD deductible\n",
    "sim = sim -100\n",
    "# Calculate E(X- 100)\n",
    "empirical_mean = np.mean(sim)\n",
    "print(\"Empirical mean = \" + str(round(empirical_mean,3)))\n",
    "# Calculate Var(X- 100)\n",
    "variance = np.var(sim)\n",
    "print(\"Variance = \" + str(round(variance,3)))"
   ]
  }
 ],
 "metadata": {
  "kernelspec": {
   "display_name": "Python 3",
   "language": "python",
   "name": "python3"
  },
  "language_info": {
   "codemirror_mode": {
    "name": "ipython",
    "version": 3
   },
   "file_extension": ".py",
   "mimetype": "text/x-python",
   "name": "python",
   "nbconvert_exporter": "python",
   "pygments_lexer": "ipython3",
   "version": "3.7.3"
  }
 },
 "nbformat": 4,
 "nbformat_minor": 2
}
