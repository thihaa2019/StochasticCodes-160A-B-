{
 "cells": [
  {
   "cell_type": "markdown",
   "metadata": {},
   "source": [
    "## Python Homework 2\n",
    "\n",
    "**Release date:** Saturday, January 18 <br>\n",
    "**Due date:** Friday, January 31, 11:59 p.m. via GauchoSpace\n",
    "\n",
    "**Instruction:** Please upload your jupyter notebook on GauchoSpace with filename \"PythonHW2_YOURPERMNUMBER.ipynb\".\n"
   ]
  },
  {
   "cell_type": "markdown",
   "metadata": {},
   "source": [
    "__Background__:\n",
    "A stochastic model for a car insurance company's total cost of damages from traffic accidents goes back to the work by Van der Lann and Louter, \"A statistical model for the costs of passenger car traffic accidents\", Journal of the Royal Statistical Society (1986).\n",
    "\n",
    "For every $k=1,2,3\\ldots$ we denote by the random variable $X_k$ the US dollar amount of a damage from a policy holder's traffic accident which will occur during the year 2020.\n",
    "\n",
    "We assume that $X_1$, $X_2$,... is an i.i.d. sequence of exponential distributed random variables with an average claim size of \\$1,000 USD.  \n",
    "\n",
    "The (random) total number of accidents $N$ in 2020 is expected to be Poisson distributed with 20 claims on average.\n",
    "\n",
    "It is assumed that the number of accidents is independent of the US dollar amount of damages for each accident. That is, the random variable $N$ is independent of the random variables $X_1$, $X_2$,...\n",
    "\n",
    "The total costs for the insurance company by the end of 2020 will thus be given by the __random sum__ $S_N$ defined as\n",
    "\n",
    "$$S_N = X_1 + X_2 + \\dots + X_N = \\sum_{k = 1}^{N} X_k.$$\n",
    "\n",
    "Note that the total number $N$ of accidents is random!"
   ]
  },
  {
   "cell_type": "markdown",
   "metadata": {},
   "source": [
    "The goal of the current exercise is to approximate the expected total costs $$\\mathbb{E}[S_N]$$ for the insurance company in 2020 via simulations."
   ]
  },
  {
   "cell_type": "markdown",
   "metadata": {},
   "source": [
    "As usual, we start with loading some packages:"
   ]
  },
  {
   "cell_type": "code",
   "execution_count": 4,
   "metadata": {},
   "outputs": [],
   "source": [
    "import numpy as np"
   ]
  },
  {
   "cell_type": "markdown",
   "metadata": {},
   "source": [
    "## Step 1: (5 Points)\n",
    "\n",
    "Write a function called <tt>randomSum(...)</tt> which simulates the random variable $S_N$. \n",
    "\n",
    "Input:\n",
    "* <tt>averageClaimSize</tt>: Average USD amount per claim\n",
    "* <tt>averageNumberOfClaims</tt>: Average number of claims/accidents in 2020\n",
    "\n",
    "Output:\n",
    "* <tt>sampleRandomSum</tt>: A single scalar being one sample from the random variable $S_N$\n",
    "\n",
    "<i>Hint:</i> Use build-in functions from the <i>NumPy</i>-package in your code in order to sample from a Poisson distribution and from an exponential distribution!"
   ]
  },
  {
   "cell_type": "code",
   "execution_count": 12,
   "metadata": {},
   "outputs": [],
   "source": [
    "def randomSum(averageClaimSize,averageNumberOfClaims): \n",
    "    \n",
    "    N = np.random.poisson(averageNumberOfClaims, size = 1)\n",
    "    a = np.random.exponential(scale = averageClaimSize, size = N)\n",
    "    sampleRandomSum = sum(a)\n",
    "    return sampleRandomSum  "
   ]
  },
  {
   "cell_type": "code",
   "execution_count": 13,
   "metadata": {},
   "outputs": [
    {
     "data": {
      "text/plain": [
       "18399.54818486357"
      ]
     },
     "execution_count": 13,
     "metadata": {},
     "output_type": "execute_result"
    }
   ],
   "source": [
    "## TEST YOUR FUNCTION HERE\n",
    "randomSum(1000,20)"
   ]
  },
  {
   "cell_type": "markdown",
   "metadata": {},
   "source": [
    "## Step 2: (3 Points)\n",
    "\n",
    "Write a simulator function called <tt>simulator()</tt> which uses the function <tt>randomSum()</tt> from Step 1 to simulate $M \\in \\mathbb{N}$ samples from the random variable $S_N$. \n",
    "\n",
    "Input: \n",
    "* <tt>averageClaimSize</tt>: Average USD amount per claim\n",
    "* <tt>averageNumberOfClaims</tt>: Average number of claims/accidents in 2020\n",
    "* <tt>M</tt>: Number of Simulations\n",
    "\n",
    "Output:\n",
    "* <tt>samples</tt>: An array of length $M$ with samples from the random variable $S_N$."
   ]
  },
  {
   "cell_type": "code",
   "execution_count": 14,
   "metadata": {},
   "outputs": [],
   "source": [
    "def simulator(averageClaimSize, averageNumberOfClaims, M):\n",
    "\n",
    "    samples = []\n",
    "    for i in range(M):\n",
    "        samples.append(randomSum(averageClaimSize,averageNumberOfClaims))\n",
    "    \n",
    "    return samples"
   ]
  },
  {
   "cell_type": "code",
   "execution_count": 15,
   "metadata": {},
   "outputs": [
    {
     "data": {
      "text/plain": [
       "[22729.023025566734,\n",
       " 16662.98214467487,\n",
       " 28015.080281274186,\n",
       " 26924.992541011936,\n",
       " 20622.839007439,\n",
       " 26511.22854067167,\n",
       " 17649.29912804913,\n",
       " 11463.480738065316,\n",
       " 15443.98545272343,\n",
       " 13759.90214065242]"
      ]
     },
     "execution_count": 15,
     "metadata": {},
     "output_type": "execute_result"
    }
   ],
   "source": [
    "## TEST YOUR FUNCTION HERE\n",
    "simulator(1000,20,10)"
   ]
  },
  {
   "cell_type": "markdown",
   "metadata": {},
   "source": [
    "## Step 3: (2 Points)\n",
    "\n",
    "As we will show in class, it holds via the so-called __Wald's Identity__ that the expectation of the random sum $S_N$ is actually given by the formula\n",
    "\n",
    "\\begin{equation}\n",
    "\\mathbb{E}[S_N] = \\mathbb{E}[N] \\cdot \\mathbb{E}[X_1] = 20 \\cdot \\$1,000 = \\$20,000.\n",
    "\\end{equation}\n",
    "\n",
    "Check via the empirical mean that\n",
    "\n",
    "$$\\frac{1}{M} \\sum_{m=1}^M s^{(m)}_N \\approx \\mathbb{E}[S_N] = \\$20,000$$\n",
    "\n",
    "where $s^{(1)}_N, s^{(2)}_N, \\ldots, s^{(M)}_N$ denote $M$ independent realizations (samples) from the random variable $S_N$. \n",
    "\n",
    "Use $M = 10, 100, 1000, 10000, 20000, 50000$ simulations.  "
   ]
  },
  {
   "cell_type": "markdown",
   "metadata": {},
   "source": [
    "That is, write a function <tt>MCsimulation(...)</tt> which uses the function <tt>simulator(...)</tt> from Step 2 to compute the empirical mean. \n",
    "\n",
    "\n",
    "Input: \n",
    "* <tt>averageClaimSize</tt>: Average USD amount per claim\n",
    "* <tt>averageNumberOfClaims</tt>: Average number of claims/accidents in 2020\n",
    "* <tt>M</tt>: Number of Simulations\n",
    "\n",
    "Output:\n",
    "* <tt>empricialMean</tt>: A real number in $\\mathbb{R}_+$."
   ]
  },
  {
   "cell_type": "code",
   "execution_count": 9,
   "metadata": {},
   "outputs": [],
   "source": [
    "def MCsimulation(averageClaimSize, averageNumberOfClaims, M): # 2 points\n",
    "\n",
    "    empricialMean = sum(simulator(averageClaimSize, averageNumberOfClaims, M))/M\n",
    "    return empricialMean"
   ]
  },
  {
   "cell_type": "code",
   "execution_count": 10,
   "metadata": {},
   "outputs": [
    {
     "data": {
      "text/plain": [
       "26178.346384809618"
      ]
     },
     "execution_count": 10,
     "metadata": {},
     "output_type": "execute_result"
    }
   ],
   "source": [
    "## TEST YOUR FUNCTION HERE\n",
    "MCsimulation(1000, 20, 1)"
   ]
  },
  {
   "cell_type": "code",
   "execution_count": 11,
   "metadata": {},
   "outputs": [
    {
     "name": "stdout",
     "output_type": "stream",
     "text": [
      "1223.0651483757865\n",
      "327.83148937970327\n",
      "93.86301725844169\n",
      "68.63265263789071\n",
      "20.959784891281743\n",
      "3.2257007832631643\n"
     ]
    }
   ],
   "source": [
    "## Compute the absolute error\n",
    "print(np.absolute(MCsimulation(1000, 20, 10)-20000))\n",
    "print(np.absolute(MCsimulation(1000, 20, 100)-20000))\n",
    "print(np.absolute(MCsimulation(1000, 20, 1000)-20000))\n",
    "print(np.absolute(MCsimulation(1000, 20, 10000)-20000))\n",
    "print(np.absolute(MCsimulation(1000, 20, 20000)-20000))\n",
    "print(np.absolute(MCsimulation(1000, 20, 50000)-20000))"
   ]
  }
 ],
 "metadata": {
  "kernelspec": {
   "display_name": "Python 3",
   "language": "python",
   "name": "python3"
  },
  "language_info": {
   "codemirror_mode": {
    "name": "ipython",
    "version": 3
   },
   "file_extension": ".py",
   "mimetype": "text/x-python",
   "name": "python",
   "nbconvert_exporter": "python",
   "pygments_lexer": "ipython3",
   "version": "3.7.3"
  }
 },
 "nbformat": 4,
 "nbformat_minor": 2
}
