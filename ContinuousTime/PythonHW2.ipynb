{
 "cells": [
  {
   "cell_type": "markdown",
   "metadata": {},
   "source": [
    "# Python Homework 2\n",
    "\n",
    "**Release date:** Saturday, April 18<br>\n",
    "**Due date:** Friday, __May 8 (!)__, at midnight via <font color=\"blue\">Gradescope</font> \n",
    "\n",
    "**Instruction:** Please upload your jupyter notebook on <font color=\"blue\">Gradescope</font> with filename __PythonHW2_YOURPERMNUMBER.ipynb__.\n"
   ]
  },
  {
   "cell_type": "markdown",
   "metadata": {},
   "source": [
    "Load some packages:"
   ]
  },
  {
   "cell_type": "code",
   "execution_count": 1,
   "metadata": {},
   "outputs": [],
   "source": [
    "import numpy as np\n",
    "import matplotlib.pyplot as plt\n",
    "\n",
    "# LOAD MORE PACKAGES IF NEEDED"
   ]
  },
  {
   "cell_type": "markdown",
   "metadata": {},
   "source": [
    "## Problem 1 (10 Points)\n",
    "\n",
    "Consider the continuous-time __Registration Line Markov Chain__ from Example 2.13 (Lecture 7).\n",
    "\n",
    "1. Implement a simulation of this Markov chain on the time interval $[0,60]$. "
   ]
  },
  {
   "cell_type": "code",
   "execution_count": 2,
   "metadata": {
    "scrolled": true
   },
   "outputs": [
    {
     "name": "stdout",
     "output_type": "stream",
     "text": [
      "The time of each state is [ 0.29134369  0.58268739  2.54472793  3.25984542  5.22188596  5.93700346\n",
      "  6.07734912  6.80947613  8.77151666  9.06286036 11.0249009  11.31624459\n",
      " 13.27828513 13.99340263 14.13374829 14.84886578 14.98921145 15.70432894\n",
      " 15.8446746  16.5597921  16.70013776 17.41525526 19.37729579 20.09241329\n",
      " 20.23275895 20.94787645 21.08822211 21.82034911 23.78238965 24.07373335\n",
      " 26.03577389 26.32711758 28.28915812 29.00427562 30.96631616 31.25765985\n",
      " 33.21970039 33.93481788 34.07516355 34.80729055 36.76933109 37.06067479\n",
      " 39.02271532 39.31405902 41.27609956 41.99121705 42.13156271 42.86368972\n",
      " 44.82573026 45.54084775 47.50288829 47.79423199 49.75627253 50.47139002\n",
      " 52.43343056 53.14854806 53.28889372 54.02102072 55.98306126 56.69817876\n",
      " 58.6602193  59.37533679]\n",
      "\n",
      "\n",
      "The state at time t is[0 1 2 1 2 3 4 1 0 1 0 1 2 3 2 3 2 3 2 3 2 1 2 3 2 3 4 1 0 1 0 1 2 1 0 1 2\n",
      " 3 4 1 0 1 0 1 2 3 4 1 2 1 0 1 2 1 2 3 4 1 2 1 2 1]\n"
     ]
    }
   ],
   "source": [
    "# WRITE YOUR OWN CODE HERE! FEEL FREE TO INSERT MORE CELLS!\n",
    "# ADD SOME COMMENTS TO YOUR CODE!()\n",
    "\n",
    "# embedded chain transition matrix\n",
    "P = np.array([[0,1,0,0,0],\n",
    "             [4/9,0,5/9,0,0],\n",
    "             [0,4/9,0,5/9,0],\n",
    "             [0,0,4/9,0,5/9],\n",
    "              [0,1,0,0,0]\n",
    "             ])\n",
    "# Ti ~ Exp (qi)\n",
    "Ti = np.array([np.random.exponential(4),np.random.exponential(20/9),\n",
    "              np.random.exponential(20/9),np.random.exponential(20/9),np.random.exponential(5)])\n",
    "\n",
    "#Suppose Xt starts at 0.\n",
    "Xt = np.array([0])\n",
    "\n",
    "# time spent in last state\n",
    "t = Ti[Xt[-1]]\n",
    "\n",
    "totalT = 0 # total time spent sum of all ts\n",
    "while True:\n",
    "    if totalT <=60.0:\n",
    "        t = np.append(t,Ti[Xt[-1]]) # stays in last state for exponentially distributed time\n",
    "        totalT += t[-1] # increase total time\n",
    "        # Xt goes from last state to other possible states with given probabiblity from transition matrix \n",
    "        # i.e. if Xt = 1, we choose next transition from 1 to 0 or 2 or 3  or 4 given their probabilities\n",
    "        Xt = np.append(Xt,np.random.choice(np.arange(5),size = 1,p =P[Xt[-1]])) \n",
    "    else :\n",
    "        t = np.cumsum(t) # sum the times\n",
    "        t = t[t<=60] # cut off time where it is >60\n",
    "        Xt = Xt[:len(t)] # cut off Xt where t >60\n",
    "        break\n",
    "\n",
    "\n",
    "print(\"The time of each state is \" +str(t))\n",
    "print(\"\\n\")\n",
    "print(\"The state at time t is\" + str(Xt))\n"
   ]
  },
  {
   "cell_type": "markdown",
   "metadata": {},
   "source": [
    "2. Plot a trajectory of this Markov Chain on $[0,60]$ by using your code from 1.\n",
    "\n",
    "<i>Hint:</i> You can use the <tt>plt.hlines()</tt> command to plot horizontal lines (check also the documentation online)."
   ]
  },
  {
   "cell_type": "code",
   "execution_count": 3,
   "metadata": {},
   "outputs": [
    {
     "data": {
      "text/plain": [
       "Text(0, 0.5, 'Number of students at time t')"
      ]
     },
     "execution_count": 3,
     "metadata": {},
     "output_type": "execute_result"
    },
    {
     "data": {
      "image/png": "[encoded data removed]",
      "text/plain": [
       "<Figure size 720x144 with 1 Axes>"
      ]
     },
     "metadata": {
      "needs_background": "light"
     },
     "output_type": "display_data"
    }
   ],
   "source": [
    "# WRITE YOUR OWN CODE HERE! FEEL FREE TO INSERT MORE CELLS!\n",
    "# ADD SOME COMMENTS TO YOUR CODE!\n",
    "fig = plt.figure(figsize=(10, 2))\n",
    "ax = fig.add_subplot(111)\n",
    "ax.step(t,Xt)\n",
    "ax.set_xlabel(\"Time t\")\n",
    "ax.set_ylabel(\"Number of students at time t\")"
   ]
  },
  {
   "cell_type": "markdown",
   "metadata": {},
   "source": [
    "3. Compute the transition function $P(t)$ at $t = \\pi$.\n",
    "\n",
    "*Hint:* Use a suitable function from the <tt>scipy.linalg</tt> package (check also the documentation online)."
   ]
  },
  {
   "cell_type": "code",
   "execution_count": 4,
   "metadata": {},
   "outputs": [
    {
     "data": {
      "text/plain": [
       "array([[ 0.47647886, -0.30366309,  0.05879298,  0.09627896, -0.05830548],\n",
       "       [-0.31197335,  0.53170491, -0.23633078, -0.12856317,  0.04402113],\n",
       "       [ 0.06140679, -0.24026238,  0.40937372,  0.01713599,  0.14209055],\n",
       "       [ 0.08916563, -0.11589299,  0.01519443,  0.56846387, -0.27883903],\n",
       "       [-0.06484408,  0.0476537 ,  0.15129869, -0.33484855,  0.38307641]])"
      ]
     },
     "execution_count": 4,
     "metadata": {},
     "output_type": "execute_result"
    }
   ],
   "source": [
    "# WRITE YOUR OWN CODE HERE! FEEL FREE TO INSERT MORE CELLS!\n",
    "# ADD SOME COMMENTS TO YOUR CODE!\n",
    "Q = np.array([[-1/4,1/4,0,0,0],\n",
    "    [1/5,-9/20,1/4,0,0],\n",
    "    [0,1/5,-9/20,1/4,0],\n",
    "    [0,0,1/5,-9/20,1/4],\n",
    "    [0,0,0,1/5,-1/5]])\n",
    "\n",
    "\n",
    "\n",
    "def P(Q,t):\n",
    "    d_eigen,S_inv =np.linalg.eig(Q)\n",
    "    S = np.linalg.inv(S_inv) # find S from S^-1\n",
    "    d_eigen = np.exp(t*d_eigen)  # turns eigen values to e^td\n",
    "    D = np.diag(d_eigen)  # makes a diagonal matrix with eigenvalues e**tD across diag\n",
    "    return S@D@S_inv #S D S_1\n",
    "    \n",
    "P(Q,np.pi)"
   ]
  },
  {
   "cell_type": "markdown",
   "metadata": {},
   "source": [
    "4. Compute the stationary distribution of this continuous-time Markov chain.\n",
    "\n",
    "*Hint:* Use suitable functions from the <tt>numpy.linalg package</tt> (check also the documentation online)."
   ]
  },
  {
   "cell_type": "code",
   "execution_count": 5,
   "metadata": {},
   "outputs": [
    {
     "name": "stdout",
     "output_type": "stream",
     "text": [
      "[-8.11803399e-01 -5.88196601e-01 -3.11803399e-01 -6.22815470e-17\n",
      " -8.81966011e-02]\n",
      "Stationary distribution is [0.12184674 0.15230842 0.19038553 0.23798191 0.29747739]\n"
     ]
    }
   ],
   "source": [
    "# WRITE YOUR OWN CODE HERE! FEEL FREE TO INSERT MORE CELLS!\n",
    "# ADD SOME COMMENTS TO YOUR CODE!\n",
    "\n",
    "import numpy as np\n",
    "\n",
    "#note: the matrix is row stochastic.\n",
    "#A markov chain transition will correspond to left multiplying by a row vector.\n",
    "Q = np.array([[-1/4,1/4,0,0,0],\n",
    "    [1/5,-9/20,1/4,0,0],\n",
    "    [0,1/5,-9/20,1/4,0],\n",
    "    [0,0,1/5,-9/20,1/4],\n",
    "    [0,0,0,1/5,-1/5]])\n",
    "QT = np.transpose(Q)\n",
    "QT\n",
    "D,V=np.linalg.eig(QT)\n",
    "print(D)             # eigenvector is fourth element \n",
    "VT =np.transpose(V) # transforms column eigen vectors to row vectors so it's easier to pick\n",
    "eig_vec0 = VT[3]    # Pick fourth eigenvector since fourth eigenvalue is 0\n",
    "norm = np.sum(eig_vec0) # Normalize in L1 norm space\n",
    "eig_vec0  = eig_vec0 /norm\n",
    "print(\"Stationary distribution is \" + str(eig_vec0))\n"
   ]
  },
  {
   "cell_type": "markdown",
   "metadata": {},
   "source": [
    "## Problem 2 (10 Points)\n",
    "\n",
    "Multistate Markov models are used in medicine to model the course of diseases. A patient may advance into, or recover from, successively more severe stages of a disease until some terminal state. Each stage represents a state of an absorbing continuous-time Markov chain. \n",
    "\n",
    "Bartolomeo et al. (2011) develop such a model to study the progression of liver disease among patients diagnosed with cirrhosis of the liver. The general form of the infinitesimal generator matrix $Q$ for their three-parameter model is\n",
    "\n",
    "$$ Q = \\begin{pmatrix} -(q_{12} + q_{13}) & q_{12} & q_{13} \\\\ 0 & -q_{23} & q_{23} \\\\ 0 & 0 & 0 \\end{pmatrix}  $$\n",
    "\n",
    "where state 1 represents cirrhosis, state 2 denotes liver cancer, and state 3 is death."
   ]
  },
  {
   "cell_type": "markdown",
   "metadata": {},
   "source": [
    "1. Starting from the first stage (\"cirrhosis\"), estimate the mean time to death (i.e. ending up in stage 3) by running 100,000 simulations. Use the transition rates\n",
    "\n",
    "$$ q_{12} = 0.0151, \\quad q_{13} = 0.0071, \\quad q_{23} = 0.0284.$$"
   ]
  },
  {
   "cell_type": "code",
   "execution_count": 6,
   "metadata": {},
   "outputs": [
    {
     "name": "stdout",
     "output_type": "stream",
     "text": [
      "Mean to death in 10000 simulations is 68.98\n"
     ]
    }
   ],
   "source": [
    "# WRITE YOUR OWN CODE HERE! FEEL FREE TO INSERT MORE CELLS!\n",
    "# ADD SOME COMMENTS TO YOUR CODE!\n",
    "\n",
    "\n",
    "def simulation(n): # how many cancer events u want to simulate\n",
    "    q12 = 0.0151\n",
    "    q13 = 0.0071\n",
    "    q23 = 0.0284\n",
    "    PathFromStateOne = np.array([0,q12/(q12+q13),q13/(q12+q13)])\n",
    "\n",
    "    q2 = q23      # T2~Exp(q2)\n",
    "    q1 = q12+q13  #T1~Exp(q1)\n",
    "\n",
    "    death = 0\n",
    "    TotalT = 0\n",
    "\n",
    "    for i in range(n):\n",
    "        Xt = 1 # start at state 1\n",
    "        T1 = np.random.exponential(1/q1) # stay in state 1 for some time \n",
    "        TotalT =T1 +TotalT\n",
    "        Xt = int(np.random.choice(np.array([1,2,3]),size = 1,p =PathFromStateOne)) # Xt goes 2 or 3\n",
    "        if Xt ==2:\n",
    "            T2 = np.random.exponential(1/q2) # stay in T2 for some time\n",
    "            death +=1 #then die\n",
    "            TotalT += T2\n",
    "            #then restart\n",
    "        elif Xt == 3:\n",
    "            death += 1 #die immediately \n",
    "    return TotalT/death\n",
    "mysim = simulation(10000)\n",
    "print(\"Mean to death in 10000 simulations is \" + \"%.2f\" % round(mysim , 2))\n"
   ]
  },
  {
   "cell_type": "markdown",
   "metadata": {},
   "source": [
    "2. Compare your approximation from 1. with the exact theoretical mean time to death (implement a suitable formula from class).  "
   ]
  },
  {
   "cell_type": "code",
   "execution_count": 7,
   "metadata": {},
   "outputs": [
    {
     "name": "stdout",
     "output_type": "stream",
     "text": [
      "Exact theoretical mean to death is 69.00\n",
      "The percent error is 0.017%\n"
     ]
    }
   ],
   "source": [
    "# WRITE YOUR OWN CODE HERE! FEEL FREE TO INSERT MORE CELLS!\n",
    "# ADD SOME COMMENTS TO YOUR CODE!\n",
    "\n",
    "\n",
    "#transient matrix\n",
    "q12 = 0.0151\n",
    "q13 = 0.0071\n",
    "q23 = 0.0284\n",
    "V = np.array([[-(q13+q12),q12],[0,-q23]])\n",
    "F = -1 * np.linalg.inv(V)\n",
    "print(\"Exact theoretical mean to death is \" + \"%.2f\" % round(np.sum(F[0]),2))\n",
    "error = abs((np.sum(F[0]) - mysim)/np.sum(F[0])) *100\n",
    "print(\"The percent error is \"+ \"%.3f\" % round(error,3) + \"%\")"
   ]
  }
 ],
 "metadata": {
  "kernelspec": {
   "display_name": "Python 3",
   "language": "python",
   "name": "python3"
  },
  "language_info": {
   "codemirror_mode": {
    "name": "ipython",
    "version": 3
   },
   "file_extension": ".py",
   "mimetype": "text/x-python",
   "name": "python",
   "nbconvert_exporter": "python",
   "pygments_lexer": "ipython3",
   "version": "3.7.6"
  }
 },
 "nbformat": 4,
 "nbformat_minor": 2
}
