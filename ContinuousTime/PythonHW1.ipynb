{
 "cells": [
  {
   "cell_type": "markdown",
   "metadata": {},
   "source": [
    "# Python Homework 1\n",
    "\n",
    "**Release date:** Friday, April 3<br>\n",
    "**Due date:** Friday, April 17, at midnight via GauchoSpace\n",
    "\n",
    "**Instruction:** Please upload your jupyter notebook on GauchoSpace with filename __PythonHW1_YOURPERMNUMBER.ipynb__.\n"
   ]
  },
  {
   "cell_type": "markdown",
   "metadata": {},
   "source": [
    "Load some packages:"
   ]
  },
  {
   "cell_type": "code",
   "execution_count": 1,
   "metadata": {},
   "outputs": [],
   "source": [
    "import numpy as np\n",
    "import matplotlib.pyplot as plt"
   ]
  },
  {
   "cell_type": "markdown",
   "metadata": {},
   "source": [
    "## Problem 1 (5 Points)\n",
    "\n",
    "1. Implement the simulation of a Poisson process $(N_t)_{0 \\leq t \\leq 100}$ with parameter $\\lambda = 0.1$ on the time interval $[0,100]$. "
   ]
  },
  {
   "cell_type": "code",
   "execution_count": 2,
   "metadata": {},
   "outputs": [],
   "source": [
    "%matplotlib inline\n",
    "# WRITE YOUR OWN CODE HERE! FEEL FREE TO INSERT MORE CELLS!\n",
    "# ADD COMMENTS TO YOUR CODE!\n",
    "#Using method 1\n",
    "def Poisson(lamda,t):\n",
    "    deltaTs = np.arange(0,t,step = t/1000) # creates time from 0,100s with delta T = 1\n",
    "    deltaNts = np.random.poisson(deltaTs[1] * 0.1, size = 999) #creates deltaNts of length 999\n",
    "    deltaNts = np.insert(deltaNts, obj = 0, values =0)# concat deltaNts with 0 at the front so we make sure No = 0 & length = 1000\n",
    "    Nts = np.cumsum(deltaNts) # N(i+1)deltaT = N(i)deltaT + deltaNts.i.e: N1 = N0+ deltaN1 s.t. N(k) = N0+deltaN1+..+deltaN(k-1)\n",
    "    return Nts\n",
    "def time(t):\n",
    "    deltaTs = np.arange(0,t,step = t/1000) # creates time from 0,100s with delta T = 1\n",
    "    return deltaTs\n",
    "\n",
    "x= time(100) # time from 0 to 100 s Length of 101\n",
    "\n",
    "Nts= Poisson(0.1,100) # Poisson RV at time from 0 to 100 total of 101\n"
   ]
  },
  {
   "cell_type": "markdown",
   "metadata": {},
   "source": [
    "2. Plot a trajectory of your simulated process from part 1. "
   ]
  },
  {
   "cell_type": "code",
   "execution_count": 3,
   "metadata": {
    "scrolled": true
   },
   "outputs": [
    {
     "data": {
      "text/plain": [
       "[]"
      ]
     },
     "execution_count": 3,
     "metadata": {},
     "output_type": "execute_result"
    },
    {
     "data": {
      "image/png": "[encoded data removed]",
      "text/plain": [
       "<Figure size 432x288 with 1 Axes>"
      ]
     },
     "metadata": {
      "needs_background": "light"
     },
     "output_type": "display_data"
    }
   ],
   "source": [
    "# WRITE YOUR OWN CODE HERE! FEEL FREE TO INSERT MORE CELLS!\n",
    "# ADD COMMENTS TO YOUR CODE!\n",
    "\n",
    "#function to plot without vertical lines, \n",
    "def mystep(x,y, ax=None, **kwargs):\n",
    "    x = np.array(x)\n",
    "    y = np.array(y)\n",
    "    X = np.c_[x[:-1],x[1:],x[1:]]\n",
    "    Y = np.c_[y[:-1],y[:-1],np.zeros_like(x[:-1])*np.nan]\n",
    "    if not ax: ax=plt.gca()\n",
    "    return ax.plot(X.flatten(), Y.flatten(), **kwargs)\n",
    "\n",
    "\n",
    "mystep(x,Nts)\n",
    "plt.xlabel(\"Total time taken\")\n",
    "plt.ylabel(\"Total number of steps\")\n",
    "plt.plot()"
   ]
  },
  {
   "cell_type": "markdown",
   "metadata": {},
   "source": [
    "## Problem 2 (5 Points)"
   ]
  },
  {
   "cell_type": "markdown",
   "metadata": {},
   "source": [
    "1. Simulate a __compound Poisson process__ $(C_t)_{0 \\leq t \\leq 30}$ (see __Lecture 4__) with parameter $\\lambda=1/2$ on the time interval $[0,30]$ where the jumps $Y_1, Y_2, \\ldots$ are given as random variables\n",
    "\n",
    "$$ Y_i = e^{Z_i} \\qquad (i = 1,2,\\ldots)$$\n",
    "\n",
    "with $Z_1, Z_2, \\ldots$ i.i.d. normally distributed random variables with mean 0 and variance 1 (also independent of the underlying Poisson process $(N_t)_{0 \\leq t \\leq 30}$). Plot a trajectory of your simulated process.\n",
    "\n",
    "*Hint*: Use your method from Problem 1 to simulate the underlying Poisson Process $(N_t)_{0 \\leq t \\leq 30}$ driving the compound Poisson process $(C_t)_{0 \\leq t \\leq 30}$."
   ]
  },
  {
   "cell_type": "code",
   "execution_count": 4,
   "metadata": {},
   "outputs": [],
   "source": [
    "def CompoundPoissonProcess(lamba,t):\n",
    "    Zi = np.random.normal(loc=0.0, scale=1.0, size = 1000) # creates RVs Z of size 31, not 30 since t = 0,1,2,..,30\n",
    "    Yi = np.exp(Zi) # Yi = e^Zi\n",
    "    Nt = Poisson(lamba, t) \n",
    "    index_of_the_jumps = np.nonzero(np.r_[0, np.diff(Nt)[:-1]])\n",
    "    # gives the index at which next jump happens and its length is the number of jumps\n",
    "    cumsumYi = np.cumsum(Yi) # to prepare for Ct, Y1, Y1+Y2,...,Y1+...+Yn\n",
    "    Ct = cumsumYi[0:np.size(index_of_the_jumps)] # gives sum of Y1,Y2,...Y(Nt) # total number of jumps is total number of sums for last Ct\n",
    "    return Ct"
   ]
  },
  {
   "cell_type": "code",
   "execution_count": 5,
   "metadata": {},
   "outputs": [
    {
     "data": {
      "text/plain": [
       "[]"
      ]
     },
     "execution_count": 5,
     "metadata": {},
     "output_type": "execute_result"
    },
    {
     "data": {
      "image/png": "[encoded data removed]",
      "text/plain": [
       "<Figure size 432x288 with 1 Axes>"
      ]
     },
     "metadata": {
      "needs_background": "light"
     },
     "output_type": "display_data"
    }
   ],
   "source": [
    "#Prepping the plotting see above\n",
    "Zi = np.random.normal(loc=0.0, scale=1.0, size = 1000) # creates RVs Z of size 31, not 30 since t = 0,1,2,..,30\n",
    "Yi = np.exp(Zi) # Yi = e^Zi\n",
    "Nt = Poisson(0.5,30) \n",
    "# gives the index at which next jump happens and its length is the number of jumps\n",
    "index_of_the_jumps = np.nonzero(np.r_[0, np.diff(Nt)[:-1]])\n",
    "\n",
    "\n",
    "x = time(30)\n",
    "time_of_jump = x[index_of_the_jumps] # value of times at which jump happens\n",
    "\n",
    "\n",
    "# Ct\n",
    "cumsumYi = np.cumsum(Yi) # to prepare for Ct\n",
    "Ct = cumsumYi[0:np.size(time_of_jump)] # gives sum of Y1,Y2,...Y(Nt) # total number of jumps is total number of sums for\n",
    "#Plotting\n",
    "mystep(time_of_jump,Ct)\n",
    "plt.plot()"
   ]
  },
  {
   "cell_type": "markdown",
   "metadata": {},
   "source": [
    "2. Simulate $M=10000$ times the compound Poisson process from part 1 and compute the empricial mean and variance of your samples for the random variable $C_{30}$. Compare your empricial values with the exact theoretical values which are given by\n",
    "\n",
    "$$\\mathbb{E}[C_{30}] = \\mathbb{E}[N_{30}] \\cdot \\mathbb{E}[Y_1] \\qquad \\text{and} \\qquad \\text{Var}(C_{30}) = \\mathbb{E}[N_{30}] \\cdot \\mathbb{E}[Y^2_1].$$\n",
    "\n",
    "*Hint*: Recall that \n",
    "$$\\mathbb{E}[e^{Z_1}] = e^{0.5} \\qquad \\text{and} \\qquad  \\mathbb{E}[(e^{Z_1})^2] = e^2.$$"
   ]
  },
  {
   "cell_type": "code",
   "execution_count": 6,
   "metadata": {},
   "outputs": [
    {
     "name": "stdout",
     "output_type": "stream",
     "text": [
      "Mean of RV C30 is \n",
      "0.0\n",
      "Variance of RV C30 is \n",
      "0.0008103013101133377\n"
     ]
    }
   ],
   "source": [
    "# WRITE YOUR OWN CODE HERE! FEEL FREE TO INSERT MORE CELLS!\n",
    "# ADD COMMENTS TO YOUR CODE! \n",
    "def CPSmean(simulations):\n",
    "    totalsum = 0 \n",
    "    for i in range(simulations):\n",
    "        a = CompoundPoissonProcess(0.5,30)\n",
    "        if len(a) != 0:\n",
    "            totalsum = totalsum + a.item(-1) #sum with last item AKA C30 \n",
    "        else:\n",
    "            totalsum = totalsum \n",
    "        return totalsum/simulations\n",
    "print(\"Mean of RV C30 is \")\n",
    "print(CPSmean(10000))\n",
    "\n",
    "def CPSvar(simulations):\n",
    "    totalsum = 0 \n",
    "    squaredsum = 0\n",
    "    for i in range(simulations):\n",
    "        a = CompoundPoissonProcess(0.5,30)\n",
    "        if len(a) != 0:\n",
    "            totalsum = totalsum + a.item(-1)\n",
    "            squaredsum = squaredsum + (a.item(-1))**2 #sum with  last item AKA C30 \n",
    "        else:\n",
    "            totalsum = totalsum \n",
    "            squaredsum = squaredsum\n",
    "        variance = (squaredsum/simulations) - (totalsum/simulations)**2 # squared average - average squared\n",
    "        return variance\n",
    "    \n",
    "print(\"Variance of RV C30 is \")    \n",
    "print(CPSvar(10000))"
   ]
  }
 ],
 "metadata": {
  "kernelspec": {
   "display_name": "Python 3",
   "language": "python",
   "name": "python3"
  },
  "language_info": {
   "codemirror_mode": {
    "name": "ipython",
    "version": 3
   },
   "file_extension": ".py",
   "mimetype": "text/x-python",
   "name": "python",
   "nbconvert_exporter": "python",
   "pygments_lexer": "ipython3",
   "version": "3.7.6"
  }
 },
 "nbformat": 4,
 "nbformat_minor": 2
}
